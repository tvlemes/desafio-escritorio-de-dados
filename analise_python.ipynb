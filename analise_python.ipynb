{
 "cells": [
  {
   "cell_type": "markdown",
   "metadata": {},
   "source": [
    "# Desafio Técnico - Cientista de Dados Júnior\n",
    "\n",
    "### Código Fonte das respostas do questionário\n",
    "\n",
    "##### Autor: Thiago Vilarinho Lemes \n",
    "##### Data: 12/02/2024"
   ]
  },
  {
   "cell_type": "code",
   "execution_count": 1,
   "metadata": {},
   "outputs": [],
   "source": [
    "# Importando as bibliotecas necessárias\n",
    "from google.cloud import bigquery\n",
    "import os\n",
    "import pandas as pd\n",
    "import seaborn as sns\n",
    "import matplotlib.pyplot as plt"
   ]
  },
  {
   "cell_type": "code",
   "execution_count": 2,
   "metadata": {},
   "outputs": [],
   "source": [
    "# Arquivo com a configurações para acessar o GCP\n",
    "os.environ[\"GOOGLE_APPLICATION_CREDENTIALS\"] = './key_only_read.json'\n",
    "\n",
    "# Nome do projeto no GCP\n",
    "project_id = 'projeto-desafio-dados-rio'\n",
    "\n",
    "client = bigquery.Client(project=project_id)\n",
    "\n",
    "# Base de Dados Chamado 1746\n",
    "query_chamado_1746      = \"SELECT * FROM datario.administracao_servicos_publicos.chamado_1746 LIMIT 50000;\"\n",
    "df_query_chamado_1746   = client.query(query_chamado_1746).to_dataframe()\n",
    "\n",
    "# Base de Dados dos Bairros\n",
    "query_bairro = \"SELECT * FROM datario.dados_mestres.bairro;\"\n",
    "df_query_bairro   = client.query(query_bairro).to_dataframe()\n",
    "\n",
    "# Base de Dados Eventos\n",
    "query_eventos           = \"SELECT * FROM datario.turismo_fluxo_visitantes.rede_hoteleira_ocupacao_eventos;\"\n",
    "df_query_eventos        = client.query(query_eventos).to_dataframe()"
   ]
  },
  {
   "cell_type": "code",
   "execution_count": 3,
   "metadata": {},
   "outputs": [
    {
     "name": "stdout",
     "output_type": "stream",
     "text": [
      "Dataframe Chamado 1746\n"
     ]
    },
    {
     "data": {
      "text/html": [
       "<div>\n",
       "<style scoped>\n",
       "    .dataframe tbody tr th:only-of-type {\n",
       "        vertical-align: middle;\n",
       "    }\n",
       "\n",
       "    .dataframe tbody tr th {\n",
       "        vertical-align: top;\n",
       "    }\n",
       "\n",
       "    .dataframe thead th {\n",
       "        text-align: right;\n",
       "    }\n",
       "</style>\n",
       "<table border=\"1\" class=\"dataframe\">\n",
       "  <thead>\n",
       "    <tr style=\"text-align: right;\">\n",
       "      <th></th>\n",
       "      <th>id_chamado</th>\n",
       "      <th>data_inicio</th>\n",
       "      <th>data_fim</th>\n",
       "      <th>id_bairro</th>\n",
       "      <th>id_territorialidade</th>\n",
       "      <th>id_logradouro</th>\n",
       "      <th>numero_logradouro</th>\n",
       "      <th>id_unidade_organizacional</th>\n",
       "      <th>nome_unidade_organizacional</th>\n",
       "      <th>id_unidade_organizacional_mae</th>\n",
       "      <th>...</th>\n",
       "      <th>tempo_prazo</th>\n",
       "      <th>prazo_unidade</th>\n",
       "      <th>prazo_tipo</th>\n",
       "      <th>dentro_prazo</th>\n",
       "      <th>situacao</th>\n",
       "      <th>tipo_situacao</th>\n",
       "      <th>justificativa_status</th>\n",
       "      <th>reclamacoes</th>\n",
       "      <th>data_particao</th>\n",
       "      <th>geometry</th>\n",
       "    </tr>\n",
       "  </thead>\n",
       "  <tbody>\n",
       "    <tr>\n",
       "      <th>0</th>\n",
       "      <td>852072</td>\n",
       "      <td>2011-12-14 19:44:59</td>\n",
       "      <td>NaT</td>\n",
       "      <td>122</td>\n",
       "      <td>4</td>\n",
       "      <td>49072</td>\n",
       "      <td>674</td>\n",
       "      <td>9</td>\n",
       "      <td>CGC - Coordenadoria Geral de Conservação</td>\n",
       "      <td>SECONSERVA</td>\n",
       "      <td>...</td>\n",
       "      <td>&lt;NA&gt;</td>\n",
       "      <td>D</td>\n",
       "      <td>D</td>\n",
       "      <td>Fora do prazo</td>\n",
       "      <td>Não Encerrado</td>\n",
       "      <td>Andamento</td>\n",
       "      <td>None</td>\n",
       "      <td>0</td>\n",
       "      <td>2011-12-01</td>\n",
       "      <td>POINT(-43.3868685 -22.9171405)</td>\n",
       "    </tr>\n",
       "    <tr>\n",
       "      <th>1</th>\n",
       "      <td>828573</td>\n",
       "      <td>2011-12-06 11:09:28</td>\n",
       "      <td>NaT</td>\n",
       "      <td>142</td>\n",
       "      <td>5</td>\n",
       "      <td>18226</td>\n",
       "      <td>3470</td>\n",
       "      <td>9</td>\n",
       "      <td>CGC - Coordenadoria Geral de Conservação</td>\n",
       "      <td>SECONSERVA</td>\n",
       "      <td>...</td>\n",
       "      <td>&lt;NA&gt;</td>\n",
       "      <td>D</td>\n",
       "      <td>D</td>\n",
       "      <td>Fora do prazo</td>\n",
       "      <td>Não Encerrado</td>\n",
       "      <td>Andamento</td>\n",
       "      <td>None</td>\n",
       "      <td>0</td>\n",
       "      <td>2011-12-01</td>\n",
       "      <td>None</td>\n",
       "    </tr>\n",
       "  </tbody>\n",
       "</table>\n",
       "<p>2 rows × 32 columns</p>\n",
       "</div>"
      ],
      "text/plain": [
       "  id_chamado         data_inicio data_fim id_bairro id_territorialidade  \\\n",
       "0     852072 2011-12-14 19:44:59      NaT       122                   4   \n",
       "1     828573 2011-12-06 11:09:28      NaT       142                   5   \n",
       "\n",
       "  id_logradouro  numero_logradouro id_unidade_organizacional  \\\n",
       "0         49072                674                         9   \n",
       "1         18226               3470                         9   \n",
       "\n",
       "                nome_unidade_organizacional id_unidade_organizacional_mae  \\\n",
       "0  CGC - Coordenadoria Geral de Conservação                    SECONSERVA   \n",
       "1  CGC - Coordenadoria Geral de Conservação                    SECONSERVA   \n",
       "\n",
       "   ... tempo_prazo prazo_unidade prazo_tipo   dentro_prazo       situacao  \\\n",
       "0  ...        <NA>             D          D  Fora do prazo  Não Encerrado   \n",
       "1  ...        <NA>             D          D  Fora do prazo  Não Encerrado   \n",
       "\n",
       "  tipo_situacao justificativa_status  reclamacoes  data_particao  \\\n",
       "0     Andamento                 None            0     2011-12-01   \n",
       "1     Andamento                 None            0     2011-12-01   \n",
       "\n",
       "                         geometry  \n",
       "0  POINT(-43.3868685 -22.9171405)  \n",
       "1                            None  \n",
       "\n",
       "[2 rows x 32 columns]"
      ]
     },
     "execution_count": 3,
     "metadata": {},
     "output_type": "execute_result"
    }
   ],
   "source": [
    "print(\"Dataframe Chamado 1746\")\n",
    "df_query_chamado_1746.head(2)"
   ]
  },
  {
   "cell_type": "code",
   "execution_count": 4,
   "metadata": {},
   "outputs": [
    {
     "name": "stdout",
     "output_type": "stream",
     "text": [
      "Dataframe Bairro\n"
     ]
    },
    {
     "data": {
      "text/html": [
       "<div>\n",
       "<style scoped>\n",
       "    .dataframe tbody tr th:only-of-type {\n",
       "        vertical-align: middle;\n",
       "    }\n",
       "\n",
       "    .dataframe tbody tr th {\n",
       "        vertical-align: top;\n",
       "    }\n",
       "\n",
       "    .dataframe thead th {\n",
       "        text-align: right;\n",
       "    }\n",
       "</style>\n",
       "<table border=\"1\" class=\"dataframe\">\n",
       "  <thead>\n",
       "    <tr style=\"text-align: right;\">\n",
       "      <th></th>\n",
       "      <th>id_bairro</th>\n",
       "      <th>nome</th>\n",
       "      <th>id_area_planejamento</th>\n",
       "      <th>id_regiao_planejamento</th>\n",
       "      <th>nome_regiao_planejamento</th>\n",
       "      <th>id_regiao_administrativa</th>\n",
       "      <th>nome_regiao_administrativa</th>\n",
       "      <th>subprefeitura</th>\n",
       "      <th>area</th>\n",
       "      <th>perimetro</th>\n",
       "      <th>geometry_wkt</th>\n",
       "      <th>geometry</th>\n",
       "    </tr>\n",
       "  </thead>\n",
       "  <tbody>\n",
       "    <tr>\n",
       "      <th>0</th>\n",
       "      <td>2</td>\n",
       "      <td>Gamboa</td>\n",
       "      <td>1</td>\n",
       "      <td>1.1</td>\n",
       "      <td>Centro</td>\n",
       "      <td>1</td>\n",
       "      <td>Portuaria</td>\n",
       "      <td>Centro</td>\n",
       "      <td>1.112903e+06</td>\n",
       "      <td>4612.833630</td>\n",
       "      <td>POLYGON ((-43.18791509600138 -22.8931217212322...</td>\n",
       "      <td>POLYGON((-43.1879150960014 -22.8931217212322, ...</td>\n",
       "    </tr>\n",
       "    <tr>\n",
       "      <th>1</th>\n",
       "      <td>1</td>\n",
       "      <td>Saúde</td>\n",
       "      <td>1</td>\n",
       "      <td>1.1</td>\n",
       "      <td>Centro</td>\n",
       "      <td>1</td>\n",
       "      <td>Portuaria</td>\n",
       "      <td>Centro</td>\n",
       "      <td>3.638176e+05</td>\n",
       "      <td>2646.220568</td>\n",
       "      <td>POLYGON ((-43.181151633502964 -22.895430284304...</td>\n",
       "      <td>POLYGON((-43.181151633503 -22.8954302843042, -...</td>\n",
       "    </tr>\n",
       "  </tbody>\n",
       "</table>\n",
       "</div>"
      ],
      "text/plain": [
       "  id_bairro    nome id_area_planejamento id_regiao_planejamento  \\\n",
       "0         2  Gamboa                    1                    1.1   \n",
       "1         1   Saúde                    1                    1.1   \n",
       "\n",
       "  nome_regiao_planejamento id_regiao_administrativa  \\\n",
       "0                   Centro                        1   \n",
       "1                   Centro                        1   \n",
       "\n",
       "  nome_regiao_administrativa subprefeitura          area    perimetro  \\\n",
       "0                  Portuaria        Centro  1.112903e+06  4612.833630   \n",
       "1                  Portuaria        Centro  3.638176e+05  2646.220568   \n",
       "\n",
       "                                        geometry_wkt  \\\n",
       "0  POLYGON ((-43.18791509600138 -22.8931217212322...   \n",
       "1  POLYGON ((-43.181151633502964 -22.895430284304...   \n",
       "\n",
       "                                            geometry  \n",
       "0  POLYGON((-43.1879150960014 -22.8931217212322, ...  \n",
       "1  POLYGON((-43.181151633503 -22.8954302843042, -...  "
      ]
     },
     "execution_count": 4,
     "metadata": {},
     "output_type": "execute_result"
    }
   ],
   "source": [
    "print(\"Dataframe Bairro\")\n",
    "df_query_bairro.head(2)"
   ]
  },
  {
   "cell_type": "code",
   "execution_count": 5,
   "metadata": {},
   "outputs": [
    {
     "name": "stdout",
     "output_type": "stream",
     "text": [
      "Dataframe Eventos\n"
     ]
    },
    {
     "data": {
      "text/html": [
       "<div>\n",
       "<style scoped>\n",
       "    .dataframe tbody tr th:only-of-type {\n",
       "        vertical-align: middle;\n",
       "    }\n",
       "\n",
       "    .dataframe tbody tr th {\n",
       "        vertical-align: top;\n",
       "    }\n",
       "\n",
       "    .dataframe thead th {\n",
       "        text-align: right;\n",
       "    }\n",
       "</style>\n",
       "<table border=\"1\" class=\"dataframe\">\n",
       "  <thead>\n",
       "    <tr style=\"text-align: right;\">\n",
       "      <th></th>\n",
       "      <th>ano</th>\n",
       "      <th>data_inicial</th>\n",
       "      <th>data_final</th>\n",
       "      <th>evento</th>\n",
       "      <th>taxa_ocupacao</th>\n",
       "    </tr>\n",
       "  </thead>\n",
       "  <tbody>\n",
       "    <tr>\n",
       "      <th>0</th>\n",
       "      <td>18/02 a 21/02 de 2023</td>\n",
       "      <td>2023-02-18</td>\n",
       "      <td>2023-02-21</td>\n",
       "      <td>Carnaval</td>\n",
       "      <td>0.9554</td>\n",
       "    </tr>\n",
       "    <tr>\n",
       "      <th>1</th>\n",
       "      <td>30-31/12 e 01/01 (2022-2023)</td>\n",
       "      <td>2022-12-30</td>\n",
       "      <td>2023-01-01</td>\n",
       "      <td>Reveillon</td>\n",
       "      <td>0.9251</td>\n",
       "    </tr>\n",
       "    <tr>\n",
       "      <th>2</th>\n",
       "      <td>02/09 a 04/09 de 2022</td>\n",
       "      <td>2022-09-02</td>\n",
       "      <td>2022-09-04</td>\n",
       "      <td>Rock in Rio</td>\n",
       "      <td>0.8184</td>\n",
       "    </tr>\n",
       "    <tr>\n",
       "      <th>3</th>\n",
       "      <td>08/09 a 11/09 de 2022</td>\n",
       "      <td>2022-09-08</td>\n",
       "      <td>2022-09-11</td>\n",
       "      <td>Rock in Rio</td>\n",
       "      <td>0.9451</td>\n",
       "    </tr>\n",
       "  </tbody>\n",
       "</table>\n",
       "</div>"
      ],
      "text/plain": [
       "                            ano data_inicial  data_final       evento  \\\n",
       "0         18/02 a 21/02 de 2023   2023-02-18  2023-02-21     Carnaval   \n",
       "1  30-31/12 e 01/01 (2022-2023)   2022-12-30  2023-01-01    Reveillon   \n",
       "2         02/09 a 04/09 de 2022   2022-09-02  2022-09-04  Rock in Rio   \n",
       "3         08/09 a 11/09 de 2022   2022-09-08  2022-09-11  Rock in Rio   \n",
       "\n",
       "   taxa_ocupacao  \n",
       "0         0.9554  \n",
       "1         0.9251  \n",
       "2         0.8184  \n",
       "3         0.9451  "
      ]
     },
     "execution_count": 5,
     "metadata": {},
     "output_type": "execute_result"
    }
   ],
   "source": [
    "print(\"Dataframe Eventos\")\n",
    "df_query_eventos.head()"
   ]
  },
  {
   "cell_type": "markdown",
   "metadata": {},
   "source": [
    "Questão 1) Quantos chamados foram abertos no dia 01/04/2023?"
   ]
  },
  {
   "cell_type": "code",
   "execution_count": 6,
   "metadata": {},
   "outputs": [
    {
     "name": "stdout",
     "output_type": "stream",
     "text": [
      "Total de chamados no dia 01/04/2023: 73 chamados\n"
     ]
    }
   ],
   "source": [
    "# Query de consulta\n",
    "query  = \"SELECT * FROM datario.administracao_servicos_publicos.chamado_1746 WHERE DATE(data_inicio) = '2023-04-01'\"\n",
    "\n",
    "# Realizando a consulta no Banco de Dados\n",
    "df_chamado_1746         = client.query(query).to_dataframe()\n",
    "chamados                = df_chamado_1746.shape\n",
    "print(f\"Total de chamados no dia 01/04/2023: {chamados[0]} chamados\")"
   ]
  },
  {
   "cell_type": "markdown",
   "metadata": {},
   "source": [
    "Questão 02) Qual o tipo de chamado que teve mais reclamações no dia 01/04/2023?"
   ]
  },
  {
   "cell_type": "code",
   "execution_count": 7,
   "metadata": {},
   "outputs": [
    {
     "name": "stdout",
     "output_type": "stream",
     "text": [
      "Os chamados de maiores reclamações no dia 01/04/2023 foi do tipo: Poluição sonora\n"
     ]
    }
   ],
   "source": [
    "# Query de consulta\n",
    "query  = \"SELECT tipo, COUNT(tipo) AS total_reclamacoes FROM datario.administracao_servicos_publicos.chamado_1746 \\\n",
    "    WHERE DATE(data_inicio) = '2023-04-01' \\\n",
    "    GROUP BY tipo \\\n",
    "    ORDER BY total_reclamacoes DESC;\"\n",
    "\n",
    "# Realizando a consulta no Banco de Dados\n",
    "df_chamado_1746         = client.query(query).to_dataframe()\n",
    "\n",
    "# Criando Dataframe com os dados consultados\n",
    "df_chamado_1746         = pd.DataFrame(df_chamado_1746, index=None).reset_index()\n",
    "\n",
    "# Renomeando coluna 'f0_' para 'tipo'\n",
    "df_chamado_1746 = df_chamado_1746.rename(columns= {'f0_': 'tipo'})\n",
    "print(f\"Os chamados de maiores reclamações no dia 01/04/2023 foi do tipo: {df_chamado_1746['tipo'][0]}\")"
   ]
  },
  {
   "cell_type": "markdown",
   "metadata": {},
   "source": [
    "Questão 3) Quais os nomes dos 3 bairros que mais tiveram chamados abertos nesse dia?"
   ]
  },
  {
   "cell_type": "code",
   "execution_count": 8,
   "metadata": {},
   "outputs": [
    {
     "name": "stdout",
     "output_type": "stream",
     "text": [
      "Os 3 bairros que tiveram mais chamados no dia 01/04/2023 foram: \n",
      "Engenho de Dentro    8\n",
      "Leblon               6\n",
      "Campo Grande         6\n",
      "Name: nome, dtype: int64\n"
     ]
    }
   ],
   "source": [
    "# Query de consulta\n",
    "query                   = \"SELECT * FROM datario.administracao_servicos_publicos.chamado_1746 \\\n",
    "                            WHERE DATE(data_inicio) = '2023-04-01'\"\n",
    "\n",
    "# Realizando a consulta no Banco de Dados\n",
    "df_chamado_1746         = client.query(query).to_dataframe()\n",
    "\n",
    "# Query de consulta\n",
    "query_bairro            = \"SELECT * FROM datario.dados_mestres.bairro;\"\n",
    "\n",
    "# Realizando a consulta no Banco de Dados\n",
    "df_query_bairro         = client.query(query_bairro).to_dataframe()\n",
    "\n",
    "# Agrupando as tabelas chamado_1746 e bairro por id_bairro\n",
    "chamados_bairro = df_chamado_1746.merge(df_query_bairro, how='inner', on=['id_bairro','id_bairro'])\n",
    "\n",
    "# Criando Dataframe com os dados consultados \n",
    "chamados_bairro = pd.DataFrame(chamados_bairro)\n",
    "\n",
    "# Fazendo a contagem dos 3 bairros que mais tiveram chamados\n",
    "top_chamados_bairros = chamados_bairro['nome'].value_counts().nlargest(3)\n",
    "print(f\"Os 3 bairros que tiveram mais chamados no dia 01/04/2023 foram: \\n{top_chamados_bairros}\")\n"
   ]
  },
  {
   "cell_type": "code",
   "execution_count": 10,
   "metadata": {},
   "outputs": [
    {
     "data": {
      "image/png": "[encoded data removed]",
      "text/plain": [
       "<Figure size 800x400 with 1 Axes>"
      ]
     },
     "metadata": {},
     "output_type": "display_data"
    }
   ],
   "source": [
    "# Dados do gráfico\n",
    "bairro = top_chamados_bairros.index \n",
    "chamados = top_chamados_bairros.values\n",
    "\n",
    "# Criando o gráfico de barras\n",
    "sns.set_theme(style=\"whitegrid\")\n",
    "plt.figure(figsize=(8, 4))\n",
    "sns.set_style('darkgrid')\n",
    "plot =sns.barplot(x=bairro, y=chamados)\n",
    "for i in plot.patches:\n",
    "    plot.annotate(i.get_height(),\n",
    "                  (i.get_x() + i.get_width() / 2, i.get_height()),\n",
    "                  ha='center',\n",
    "                  va='baseline',\n",
    "                  fontsize=12,\n",
    "                  color='black',\n",
    "                  xytext=(0, 1),\n",
    "                  textcoords='offset points')\n",
    "# Customizando o gráfico\n",
    "plt.title('Top 3 chamados por bairro no dia 01/04/2023')\n",
    "plt.xlabel('Bairro')\n",
    "plt.ylabel('Total Chamados')\n",
    "\n",
    "# Plotando o gráfico\n",
    "plt.show()"
   ]
  },
  {
   "cell_type": "markdown",
   "metadata": {},
   "source": [
    "Questão 4) Qual o nome da subprefeitura com mais chamados abertos nesse dia?"
   ]
  },
  {
   "cell_type": "code",
   "execution_count": 11,
   "metadata": {},
   "outputs": [
    {
     "name": "stdout",
     "output_type": "stream",
     "text": [
      "A subprefeitura com maior número de chamados no dia 01/04/2023: Zona Norte\n"
     ]
    }
   ],
   "source": [
    "# Query de consulta\n",
    "query                   = \"SELECT * FROM datario.administracao_servicos_publicos.chamado_1746 \\\n",
    "                            WHERE DATE(data_inicio) = '2023-04-01'\"\n",
    "\n",
    "# Realizando a consulta no Banco de Dados\n",
    "df_chamado_1746         = client.query(query).to_dataframe()\n",
    "\n",
    "# Query de consulta\n",
    "query_bairro            = \"SELECT * FROM datario.dados_mestres.bairro;\"\n",
    "\n",
    "# Realizando a consulta no Banco de Dados\n",
    "df_query_bairro         = client.query(query_bairro).to_dataframe()\n",
    "\n",
    "# Agrupando as tabelas chamado_1746 e bairro por id_bairro\n",
    "chamados_bairro_subprefeitura = df_chamado_1746.merge(df_query_bairro, how='inner', on=['id_bairro','id_bairro'])\n",
    "\n",
    "# Criando Dataframe com os dados agrupados acima \n",
    "chamados_bairro_subprefeitura = pd.DataFrame(chamados_bairro_subprefeitura)\n",
    "\n",
    "# Realizando contagem dos valores do campo subprefeitura iguais\n",
    "top_chamados_bairro_subprefeitura = chamados_bairro_subprefeitura['subprefeitura'].value_counts()\n",
    "\n",
    "# Criando Dataframe e renomeando os campos subprefeitura e index para respectivamente chamados e subprefeitura\n",
    "top_chamados_bairro_subprefeitura = pd.DataFrame(top_chamados_bairro_subprefeitura).reset_index() \\\n",
    "                                            .rename(columns= {'subprefeitura': 'chamados'}) \\\n",
    "                                            .rename(columns= {'index': 'subprefeitura'})\n",
    "\n",
    "print(f\"A subprefeitura com maior número de chamados no dia 01/04/2023: {top_chamados_bairro_subprefeitura['subprefeitura'][0]}\")"
   ]
  },
  {
   "cell_type": "markdown",
   "metadata": {},
   "source": [
    "Questão 5) Existe algum chamado aberto nesse dia que não foi associado a um bairro ou subprefeitura na tabela de bairros? Se sim, por que isso acontece?"
   ]
  },
  {
   "cell_type": "code",
   "execution_count": null,
   "metadata": {},
   "outputs": [],
   "source": [
    "'''Resp.: Sim. Isso acontece no momento do cadastro do chamado em que o usuário não insere os dados corretamente, \n",
    "assim como, pode não está cadastrado o bairro ou subprefeitura no sitema impossibilitando sua inserção no cadastro, \n",
    "ou até mesmo, erro durante a migração dos dados para a cloud, causando ruído nos dados.'''"
   ]
  },
  {
   "cell_type": "markdown",
   "metadata": {},
   "source": [
    "Questão 6) Quantos chamados com o subtipo \"Perturbação do sossego\" foram abertos desde 01/01/2022 até 31/12/2023 (incluindo extremidades)?"
   ]
  },
  {
   "cell_type": "code",
   "execution_count": 13,
   "metadata": {},
   "outputs": [
    {
     "name": "stdout",
     "output_type": "stream",
     "text": [
      "Foram realizados entre os dias 01/01/2022 até 31/12/2023 com subtipo 'Pertubação do sosego': 42408 chamados\n"
     ]
    }
   ],
   "source": [
    "# Query de consulta\n",
    "query               = \"SELECT COUNT(id_chamado) FROM datario.administracao_servicos_publicos.chamado_1746 \\\n",
    "                            WHERE DATE(data_inicio) >= '2022-01-01' \\\n",
    "                                AND DATE(data_inicio) <= '2023-12-31' \\\n",
    "                                AND subtipo='Perturbação do sossego'\"\n",
    "\n",
    "# Realizando a consulta no Banco de Dados\n",
    "df_chamados_subtipo         = client.query(query).to_dataframe()\n",
    "\n",
    "# Criando Dataframe\n",
    "df_chamados_subtipo         = pd.DataFrame(df_chamados_subtipo, index=None).reset_index()\n",
    "\n",
    "# Renomeando a coluna 'f0_' para 'df_chamados'\n",
    "df_chamados_subtipo = df_chamados_subtipo.rename(columns= {'f0_': 'df_chamados'})\n",
    "print(f\"Foram realizados entre os dias 01/01/2022 até 31/12/2023 com subtipo 'Pertubação do sosego': {df_chamados_subtipo['df_chamados'].to_string(index=False)} chamados\")\n"
   ]
  },
  {
   "cell_type": "markdown",
   "metadata": {},
   "source": [
    "Questão 7) Selecione os chamados com esse subtipo que foram abertos durante os eventos contidos na tabela de eventos (Reveillon, Carnaval e Rock in Rio)."
   ]
  },
  {
   "cell_type": "code",
   "execution_count": 3,
   "metadata": {},
   "outputs": [
    {
     "data": {
      "text/html": [
       "<div>\n",
       "<style scoped>\n",
       "    .dataframe tbody tr th:only-of-type {\n",
       "        vertical-align: middle;\n",
       "    }\n",
       "\n",
       "    .dataframe tbody tr th {\n",
       "        vertical-align: top;\n",
       "    }\n",
       "\n",
       "    .dataframe thead th {\n",
       "        text-align: right;\n",
       "    }\n",
       "</style>\n",
       "<table border=\"1\" class=\"dataframe\">\n",
       "  <thead>\n",
       "    <tr style=\"text-align: right;\">\n",
       "      <th></th>\n",
       "      <th>id_chamado</th>\n",
       "      <th>data_inicio</th>\n",
       "      <th>evento</th>\n",
       "      <th>subtipo</th>\n",
       "    </tr>\n",
       "  </thead>\n",
       "  <tbody>\n",
       "    <tr>\n",
       "      <th>0</th>\n",
       "      <td>17658447</td>\n",
       "      <td>2022-09-02</td>\n",
       "      <td>Rock in Rio</td>\n",
       "      <td>Perturbação do sossego</td>\n",
       "    </tr>\n",
       "    <tr>\n",
       "      <th>1</th>\n",
       "      <td>17661581</td>\n",
       "      <td>2022-09-02</td>\n",
       "      <td>Rock in Rio</td>\n",
       "      <td>Perturbação do sossego</td>\n",
       "    </tr>\n",
       "    <tr>\n",
       "      <th>2</th>\n",
       "      <td>17658261</td>\n",
       "      <td>2022-09-02</td>\n",
       "      <td>Rock in Rio</td>\n",
       "      <td>Perturbação do sossego</td>\n",
       "    </tr>\n",
       "    <tr>\n",
       "      <th>3</th>\n",
       "      <td>17658529</td>\n",
       "      <td>2022-09-02</td>\n",
       "      <td>Rock in Rio</td>\n",
       "      <td>Perturbação do sossego</td>\n",
       "    </tr>\n",
       "    <tr>\n",
       "      <th>4</th>\n",
       "      <td>17661757</td>\n",
       "      <td>2022-09-02</td>\n",
       "      <td>Rock in Rio</td>\n",
       "      <td>Perturbação do sossego</td>\n",
       "    </tr>\n",
       "  </tbody>\n",
       "</table>\n",
       "</div>"
      ],
      "text/plain": [
       "  id_chamado data_inicio       evento                 subtipo\n",
       "0   17658447  2022-09-02  Rock in Rio  Perturbação do sossego\n",
       "1   17661581  2022-09-02  Rock in Rio  Perturbação do sossego\n",
       "2   17658261  2022-09-02  Rock in Rio  Perturbação do sossego\n",
       "3   17658529  2022-09-02  Rock in Rio  Perturbação do sossego\n",
       "4   17661757  2022-09-02  Rock in Rio  Perturbação do sossego"
      ]
     },
     "execution_count": 3,
     "metadata": {},
     "output_type": "execute_result"
    }
   ],
   "source": [
    "# Query de consulta\n",
    "query                = '''WITH cte_chamado_1746 AS (\n",
    "                            SELECT * \n",
    "                            FROM `datario.administracao_servicos_publicos.chamado_1746` \n",
    "                            WHERE subtipo = \"Perturbação do sossego\"                 \n",
    "                    )\n",
    "                    SELECT c.id_chamado, DATE(c.data_inicio) AS data_inicio,  b.evento, c.subtipo,\n",
    "                    FROM cte_chamado_1746 AS c\n",
    "                    INNER JOIN `datario.turismo_fluxo_visitantes.rede_hoteleira_ocupacao_eventos` AS b\n",
    "                    ON DATE(c.data_inicio) BETWEEN DATE(b.data_inicial) AND DATE(b.data_final)  \n",
    "                    GROUP BY \n",
    "                        id_chamado, \n",
    "                        b.evento, \n",
    "                        c.subtipo, \n",
    "                        data_inicio\n",
    "                    ORDER BY \n",
    "                        data_inicio'''\n",
    "\n",
    "# Realizando a consulta no Banco de Dados\n",
    "df_chamados_evento   = client.query(query).to_dataframe()\n",
    "\n",
    "# Criando Dataframe\n",
    "df_chamados_evento   = pd.DataFrame(df_chamados_evento)\n",
    "\n",
    "# Imprimindo os 5 primeiros valores do Dataframe\n",
    "df_chamados_evento.head(5)"
   ]
  },
  {
   "cell_type": "markdown",
   "metadata": {},
   "source": [
    "8) Quantos chamados desse subtipo foram abertos em cada evento?"
   ]
  },
  {
   "cell_type": "code",
   "execution_count": 4,
   "metadata": {},
   "outputs": [
    {
     "name": "stdout",
     "output_type": "stream",
     "text": [
      "Foram abertos o total de chamados para cada evento: \n",
      "         evento                 subtipo  total_chamados_subtipo_evento\n",
      "0  Rock in Rio  Perturbação do sossego                            834\n",
      "1     Carnaval  Perturbação do sossego                            241\n",
      "2    Reveillon  Perturbação do sossego                            137\n"
     ]
    }
   ],
   "source": [
    "# Query de consulta\n",
    "query                   = '''WITH cte_chamado_1746 AS (\n",
    "                                SELECT * \n",
    "                                FROM `datario.administracao_servicos_publicos.chamado_1746` \n",
    "                                WHERE subtipo = \"Perturbação do sossego\"                 \n",
    "                        )\n",
    "                        SELECT b.evento, c.subtipo, COUNT(b.evento) AS total_chamados_subtipo_evento\n",
    "                        FROM cte_chamado_1746 AS c\n",
    "                        INNER JOIN `datario.turismo_fluxo_visitantes.rede_hoteleira_ocupacao_eventos` AS b\n",
    "                        ON DATE(c.data_inicio) BETWEEN DATE(b.data_inicial) AND DATE(b.data_final)  \n",
    "                        GROUP BY \n",
    "                            b.evento, \n",
    "                            c.subtipo\n",
    "                        ORDER BY\n",
    "                            total_chamados_subtipo_evento DESC'''\n",
    "# Realizando a consulta no Banco de Dados\n",
    "df_chamados_subtipo_evento   = client.query(query).to_dataframe()\n",
    "\n",
    "# Criando Dataframe\n",
    "df_chamados_subtipo_evento   = pd.DataFrame(df_chamados_subtipo_evento)\n",
    "\n",
    "# Imprimindo a consulta\n",
    "print(f\"Foram abertos o total de chamados para cada evento: \\n {df_chamados_subtipo_evento}\")"
   ]
  },
  {
   "cell_type": "code",
   "execution_count": 5,
   "metadata": {},
   "outputs": [
    {
     "data": {
      "image/png": "[encoded data removed]",
      "text/plain": [
       "<Figure size 1000x800 with 1 Axes>"
      ]
     },
     "metadata": {},
     "output_type": "display_data"
    }
   ],
   "source": [
    "# Criando o gráfico de Barra\n",
    "sns.set_theme(style=\"whitegrid\")\n",
    "plt.figure(figsize=(10, 8))\n",
    "sns.set_style('darkgrid')\n",
    "plot = sns.barplot(df_chamados_subtipo_evento, x='evento', y='total_chamados_subtipo_evento', \\\n",
    "                   hue='evento', palette='RdPu')\n",
    "\n",
    "for i in plot.patches:\n",
    "    plot.annotate(i.get_height(),\n",
    "                  (i.get_x() + i.get_width() / 2, i.get_height()),\n",
    "                  ha='center',\n",
    "                  va='baseline',\n",
    "                  fontsize=12,\n",
    "                  color='black',\n",
    "                  xytext=(0, 1),\n",
    "                  textcoords='offset points')\n",
    "\n",
    "# Customize the plot\n",
    "plt.title('Chamados por evento')\n",
    "plt.xlabel('Eventos')\n",
    "plt.ylabel('Chamados')\n",
    "\n",
    "# Show the plot\n",
    "plt.show()"
   ]
  },
  {
   "cell_type": "markdown",
   "metadata": {},
   "source": [
    "9) Qual evento teve a maior média diária de chamados abertos desse subtipo?"
   ]
  },
  {
   "cell_type": "code",
   "execution_count": 6,
   "metadata": {},
   "outputs": [
    {
     "name": "stdout",
     "output_type": "stream",
     "text": [
      "O evento que teve a maior média diária de chamados abertos desse subtipo: Rock in Rio\n"
     ]
    }
   ],
   "source": [
    "# Query de consulta\n",
    "query                   = '''WITH\n",
    "                                cte_chamado_1746 AS (\n",
    "                                    SELECT * \n",
    "                                    FROM `datario.administracao_servicos_publicos.chamado_1746` \n",
    "                                    WHERE subtipo=\"Perturbação do sossego\"\n",
    "                                ),\n",
    "                                cte_media_diaria AS (\n",
    "                                    SELECT \n",
    "                                        b.evento, \n",
    "                                        DATE(c.data_inicio) AS data_inicio,\n",
    "                                        COUNT(b.evento) AS total_evento_subtipo\n",
    "                                    FROM cte_chamado_1746 AS c\n",
    "                                    INNER JOIN `datario.turismo_fluxo_visitantes.rede_hoteleira_ocupacao_eventos` AS b\n",
    "                                    ON DATE(c.data_inicio) BETWEEN DATE(b.data_inicial) AND DATE(b.data_final)\n",
    "                                    GROUP BY\n",
    "                                        b.evento, \n",
    "                                        DATE(c.data_inicio)\n",
    "                                )\n",
    "                                SELECT \n",
    "                                    e.evento, \n",
    "                                    AVG(e.total_evento_subtipo) AS media_diaria\n",
    "                                FROM cte_media_diaria AS e\n",
    "                                GROUP BY \n",
    "                                    e.evento\n",
    "                                ORDER BY \n",
    "                                    media_diaria DESC;'''\n",
    "# Realizando a consulta no Banco de Dados\n",
    "df_chamados_evento_media_diaria   = client.query(query).to_dataframe()\n",
    "\n",
    "# Criando Dataframe\n",
    "df_chamados_evento_media_diaria   = pd.DataFrame(df_chamados_evento_media_diaria)\n",
    "\n",
    "# Imprimindo a consulta\n",
    "print(f\"O evento que teve a maior média diária de chamados abertos desse subtipo: {df_chamados_evento_media_diaria['evento'][0]}\")"
   ]
  },
  {
   "cell_type": "markdown",
   "metadata": {},
   "source": [
    "10) Compare as médias diárias de chamados abertos desse subtipo durante os eventos específicos (Reveillon, Carnaval e Rock in Rio) e a \n",
    "média diária de chamados abertos desse subtipo considerando todo o período de 01/01/2022 até 31/12/2023."
   ]
  },
  {
   "cell_type": "code",
   "execution_count": 7,
   "metadata": {},
   "outputs": [
    {
     "name": "stdout",
     "output_type": "stream",
     "text": [
      "A Média do periódo 01/01/2022 e 31/12/2023 pelo subtipo 'Perturbação do sossego' e pelos eventos foram: \n",
      "        evento       total\n",
      "0    Reveillon   63.201192\n",
      "1     Carnaval   63.201192\n",
      "2  Rock in Rio  126.402385\n"
     ]
    }
   ],
   "source": [
    "query               = '''WITH\n",
    "                            cte_chamado_1746 AS (\n",
    "                                SELECT * \n",
    "                                FROM `datario.administracao_servicos_publicos.chamado_1746` \n",
    "                                WHERE subtipo = \"Perturbação do sossego\"\n",
    "                            ),\n",
    "                            cte_chamado_evento AS (\n",
    "                                SELECT \n",
    "                                DATE(c.data_inicio) AS data_inicio,\n",
    "                                b.evento, \n",
    "                                COUNT(b.evento) AS total_evento_subtipo\n",
    "                                FROM cte_chamado_1746 AS c\n",
    "                                INNER JOIN `datario.turismo_fluxo_visitantes.rede_hoteleira_ocupacao_eventos` AS b\n",
    "                                ON DATE(c.data_inicio) BETWEEN DATE('2022-01-01') AND DATE('2023-12-31')\n",
    "                                GROUP BY\n",
    "                                b.evento,\n",
    "                                data_inicio\n",
    "                            )\n",
    "                            SELECT \n",
    "                            evento,\n",
    "                            AVG(d.total_evento_subtipo) AS total\n",
    "                            FROM cte_chamado_evento AS d\n",
    "                            GROUP BY \n",
    "                            d.evento'''\n",
    "\n",
    "# Realizando a consulta no Banco de Dados\n",
    "df_chamados_evento_periodo   = client.query(query).to_dataframe()\n",
    "\n",
    "# Criando Dataframe\n",
    "df_chamados_evento_periodo   = pd.DataFrame(df_chamados_evento_periodo)\n",
    "\n",
    "# Imprimindo a consulta\n",
    "print(f\"A Média do periódo 01/01/2022 e 31/12/2023 pelo subtipo 'Perturbação do sossego' e pelos eventos foram: \\n{df_chamados_evento_periodo.head()}\")"
   ]
  },
  {
   "cell_type": "code",
   "execution_count": 8,
   "metadata": {},
   "outputs": [
    {
     "data": {
      "image/png": "[encoded data removed]",
      "text/plain": [
       "<Figure size 1000x800 with 1 Axes>"
      ]
     },
     "metadata": {},
     "output_type": "display_data"
    }
   ],
   "source": [
    "# Criando o gráfico de Barra\n",
    "sns.set_theme(style=\"whitegrid\")\n",
    "plt.figure(figsize=(10, 8))\n",
    "sns.set_style('darkgrid')\n",
    "plot = sns.barplot(df_chamados_evento_periodo, x='evento', y='total', \\\n",
    "                   hue='evento', palette='deep')\n",
    "\n",
    "for i in plot.patches:\n",
    "    plot.annotate(i.get_height(),\n",
    "                  (i.get_x() + i.get_width() / 2, i.get_height()),\n",
    "                  ha='center',\n",
    "                  va='baseline',\n",
    "                  fontsize=12,\n",
    "                  color='black',\n",
    "                  xytext=(0, 1),\n",
    "                  textcoords='offset points')\n",
    "\n",
    "# Customize the plot\n",
    "plt.title(\"Média do periódo 2022 a 2023 subtipo 'Perturbação do sossego'\")\n",
    "plt.xlabel('Eventos')\n",
    "plt.ylabel('Chamados')\n",
    "\n",
    "# Show the plot\n",
    "plt.show();"
   ]
  }
 ],
 "metadata": {
  "kernelspec": {
   "display_name": "Python 3",
   "language": "python",
   "name": "python3"
  },
  "language_info": {
   "codemirror_mode": {
    "name": "ipython",
    "version": 3
   },
   "file_extension": ".py",
   "mimetype": "text/x-python",
   "name": "python",
   "nbconvert_exporter": "python",
   "pygments_lexer": "ipython3",
   "version": "3.11.0"
  }
 },
 "nbformat": 4,
 "nbformat_minor": 2
}
