{
 "cells": [
  {
   "cell_type": "markdown",
   "metadata": {},
   "source": [
    "# Desafio Técnico - Cientista de Dados Júnior\n",
    "\n",
    "### Código Fonte para extração dos dados do GCP\n",
    "\n",
    "##### Autor: Thiago Vilarinho Lemes \n",
    "##### Data: 15/02/2024\n",
    "\n",
    "<font color=\"#ff6666\">OBS.: Neste notebook foram extraídos os dados a partir da data 01/01/2022 a 31/12/2023 da tabela `datario.administracao_servicos_publicos.chamado_1746`, dados estes utilizados para resolver as questões do desafio. Caso utilizasse todo os registros poderia haver um bloqueio na GCP, devido ao grande volume de dados e grandes consultas realizadas na mesma. </font>"
   ]
  },
  {
   "cell_type": "code",
   "execution_count": 1,
   "metadata": {},
   "outputs": [],
   "source": [
    "from google.cloud import bigquery\n",
    "import os\n",
    "import pandas as pd\n",
    "\n",
    "# Arquivo com a configurações para acessar o GCP\n",
    "os.environ[\"GOOGLE_APPLICATION_CREDENTIALS\"] = '../key_only_read.json'\n",
    "\n",
    "# Nome do projeto no GCP\n",
    "project_id = 'projeto-desafio-dados-rio'\n",
    "\n",
    "client = bigquery.Client(project=project_id)"
   ]
  },
  {
   "cell_type": "code",
   "execution_count": 2,
   "metadata": {},
   "outputs": [],
   "source": [
    "# Extração dos dados da tabela datario.administracao_servicos_publicos.chamado_1746\n",
    "query                       = '''SELECT \n",
    "                                    id_chamado, \n",
    "                                    data_inicio, \n",
    "                                    data_fim, \n",
    "                                    id_bairro, \n",
    "                                    categoria, \n",
    "                                    id_tipo, \n",
    "                                    tipo, \n",
    "                                    id_subtipo,    \n",
    "                                    subtipo,\n",
    "                                    status,\n",
    "                                    data_alvo_finalizacao,\n",
    "                                    situacao, \n",
    "                                    tipo_situacao,\n",
    "                                    reclamacoes,\n",
    "                                    data_particao\n",
    "                                FROM `datario.administracao_servicos_publicos.chamado_1746`\n",
    "                                WHERE DATE(data_inicio) >= '2022-01-01' \n",
    "                                    AND data_inicio IS NOT NULL \n",
    "                                    AND DATE(data_inicio) IS NOT NULL;'''\n",
    "\n",
    "# Realizando a consulta no Banco de Dados\n",
    "df_chamados_1746_2022_2024   = client.query(query).to_dataframe()\n",
    "\n",
    "# Criando Dataframe com os dados consultados\n",
    "df_chamados_1746_2022_2024   = pd.DataFrame(df_chamados_1746_2022_2024)"
   ]
  },
  {
   "cell_type": "code",
   "execution_count": 3,
   "metadata": {},
   "outputs": [],
   "source": [
    "# Extração dos dados da tabela datario.dados_mestres.bairro\n",
    "query          = \"SELECT * FROM datario.dados_mestres.bairro;\"\n",
    "\n",
    "# Realizando a consulta no Banco de Dados\n",
    "df_bairro   = client.query(query).to_dataframe()\n",
    "\n",
    "# Criando Dataframe com os dados consultados\n",
    "df_bairro   = pd.DataFrame(df_bairro)"
   ]
  },
  {
   "cell_type": "code",
   "execution_count": null,
   "metadata": {},
   "outputs": [],
   "source": [
    "# Extração dos dados da tabela datario.turismo_fluxo_visitantes.rede_hoteleira_ocupacao_eventos\n",
    "query           = \"SELECT * FROM datario.turismo_fluxo_visitantes.rede_hoteleira_ocupacao_eventos;\"\n",
    "\n",
    "# Realizando a consulta no Banco de Dados\n",
    "\n",
    "df_eventos      = client.query(query).to_dataframe()\n",
    "\n",
    "# Criando Dataframe com os dados consultados\n",
    "df_eventos      = pd.DataFrame(df_eventos)"
   ]
  },
  {
   "cell_type": "code",
   "execution_count": 5,
   "metadata": {},
   "outputs": [],
   "source": [
    "# Criando os arquivos Parquet e CSV com os dados referentes aos anos de 2022 a 2024\n",
    "df_chamados_1746_2022_2024.to_parquet('./chamado_1746_2022_2024')\n",
    "df_chamados_1746_2022_2024.to_csv('./chamado_1746_2022_2024.csv')"
   ]
  },
  {
   "cell_type": "code",
   "execution_count": 6,
   "metadata": {},
   "outputs": [],
   "source": [
    "# Filtrando os dados a partir de \n",
    "df_chamados_1746_2022_2023 = df_chamados_1746_2022_2024[df_chamados_1746_2022_2024['data_inicio'] < '2024-01-01']\n",
    "\n",
    "# Criando os arquivos Parquet e CSV com os dados referentes aos anos de 2022 a 2023 \n",
    "df_chamados_1746_2022_2023.to_parquet('./chamado_1746_2022_2023')\n",
    "df_chamados_1746_2022_2023.to_csv('./chamado_1746_2022_2023.csv')"
   ]
  },
  {
   "cell_type": "code",
   "execution_count": null,
   "metadata": {},
   "outputs": [],
   "source": [
    "# Criação os arquivos Parquet e CSV com os dados da tabela datario.dados_mestres.bairro\n",
    "df_bairro.to_parquet('./dados_mestres.bairro')\n",
    "df_bairro.to_csv('./dados_mestres.bairro.csv')"
   ]
  },
  {
   "cell_type": "code",
   "execution_count": 18,
   "metadata": {},
   "outputs": [],
   "source": [
    "# Criação os arquivos Parquet e CSV com os dados da tabela datario.turismo_fluxo_visitantes.rede_hoteleira_ocupacao_eventos\n",
    "df_eventos.to_parquet('./rede_hoteleira_ocupacao_eventos')\n",
    "df_eventos.to_csv('./rede_hoteleira_ocupacao_eventos.csv')"
   ]
  }
 ],
 "metadata": {
  "kernelspec": {
   "display_name": "Python 3",
   "language": "python",
   "name": "python3"
  },
  "language_info": {
   "codemirror_mode": {
    "name": "ipython",
    "version": 3
   },
   "file_extension": ".py",
   "mimetype": "text/x-python",
   "name": "python",
   "nbconvert_exporter": "python",
   "pygments_lexer": "ipython3",
   "version": "3.11.0"
  }
 },
 "nbformat": 4,
 "nbformat_minor": 2
}
